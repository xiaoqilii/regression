{
 "cells": [
  {
   "cell_type": "markdown",
   "metadata": {},
   "source": [
    "# Example usage of the Regression package using the California Housing Dataset"
   ]
  },
  {
   "cell_type": "markdown",
   "metadata": {},
   "source": [
    "### Importing the dataset and libraries"
   ]
  },
  {
   "cell_type": "code",
   "execution_count": 1,
   "metadata": {},
   "outputs": [],
   "source": [
    "from sklearn.datasets import fetch_california_housing\n",
    "import numpy as np"
   ]
  },
  {
   "cell_type": "code",
   "execution_count": 2,
   "metadata": {},
   "outputs": [],
   "source": [
    "# Loading the data\n",
    "california_housing = fetch_california_housing()\n",
    "X = california_housing.data # Covariates\n",
    "y = california_housing.target # Response"
   ]
  },
  {
   "cell_type": "markdown",
   "metadata": {},
   "source": [
    "## OLS Example"
   ]
  },
  {
   "cell_type": "code",
   "execution_count": 3,
   "metadata": {},
   "outputs": [],
   "source": [
    "# Import the OLS class\n",
    "from regression.estimators import OLS"
   ]
  },
  {
   "cell_type": "markdown",
   "metadata": {},
   "source": [
    "### Basic calculations"
   ]
  },
  {
   "cell_type": "markdown",
   "metadata": {},
   "source": [
    "**Fitting the OLS model**"
   ]
  },
  {
   "cell_type": "code",
   "execution_count": 4,
   "metadata": {},
   "outputs": [
    {
     "data": {
      "text/plain": [
       "array([ 2.06855817,  0.8296193 ,  0.11875165, -0.26552688,  0.30569623,\n",
       "       -0.004503  , -0.03932627, -0.89988565, -0.870541  ])"
      ]
     },
     "execution_count": 4,
     "metadata": {},
     "output_type": "execute_result"
    }
   ],
   "source": [
    "# Initialize the OLS model with default parameters\n",
    "ols_model = OLS()\n",
    "\n",
    "# Regress y on x\n",
    "ols_model.fit(X, y)\n",
    "ols_model.beta # The OLS estimator"
   ]
  },
  {
   "cell_type": "markdown",
   "metadata": {},
   "source": [
    "**Predicting using the fitted model**"
   ]
  },
  {
   "cell_type": "code",
   "execution_count": 5,
   "metadata": {},
   "outputs": [
    {
     "data": {
      "text/plain": [
       "array([4.13164983, 3.97660644, 3.67657094, ..., 0.17125141, 0.31910524,\n",
       "       0.51580363])"
      ]
     },
     "execution_count": 5,
     "metadata": {},
     "output_type": "execute_result"
    }
   ],
   "source": [
    "ols_model.predict(X)\n",
    "# Note: Normally, one would use the fitted model to predict unseen data, not the same X used when fitting."
   ]
  },
  {
   "cell_type": "markdown",
   "metadata": {},
   "source": [
    "**Compute performance metrics**"
   ]
  },
  {
   "cell_type": "code",
   "execution_count": 6,
   "metadata": {},
   "outputs": [
    {
     "name": "stdout",
     "output_type": "stream",
     "text": [
      "R2: 0.6062326851998039\n",
      "Adjusted R2: 0.6060609094335685\n",
      "MSE: 0.5243209861846072\n"
     ]
    }
   ],
   "source": [
    "R2 = ols_model.score(y) # Normal R^2\n",
    "R2_ajd = ols_model.score(y, adjusted=True) # Adjusted R^2\n",
    "MSE = ols_model.mse(y) # Uses the values of y_hat store in the model when fitting\n",
    "\n",
    "print(\n",
    "    f\"R2: {R2}\\n\"\n",
    "    f\"Adjusted R2: {R2_ajd}\\n\"\n",
    "    f\"MSE: {MSE}\"\n",
    ")"
   ]
  },
  {
   "cell_type": "markdown",
   "metadata": {},
   "source": [
    "### Testing with the OLS model"
   ]
  },
  {
   "cell_type": "markdown",
   "metadata": {},
   "source": [
    "**T-Test for a single coefficient**"
   ]
  },
  {
   "cell_type": "code",
   "execution_count": 7,
   "metadata": {},
   "outputs": [
    {
     "name": "stdout",
     "output_type": "stream",
     "text": [
      "With significance level 5.0%, we REJECT H0.\n"
     ]
    },
    {
     "data": {
      "text/plain": [
       "False"
      ]
     },
     "execution_count": 7,
     "metadata": {},
     "output_type": "execute_result"
    }
   ],
   "source": [
    "j = 3\n",
    "bj = 1.3\n",
    "alpha = 0.05\n",
    "ols_model.t_test(j, bj, alpha) # Using critical value"
   ]
  },
  {
   "cell_type": "code",
   "execution_count": 8,
   "metadata": {},
   "outputs": [
    {
     "name": "stdout",
     "output_type": "stream",
     "text": [
      "With significance level 5.0%, we REJECT H0.\n"
     ]
    },
    {
     "data": {
      "text/plain": [
       "False"
      ]
     },
     "execution_count": 8,
     "metadata": {},
     "output_type": "execute_result"
    }
   ],
   "source": [
    "ols_model.t_test(j, bj, alpha, use_p_value=True) # Using p value"
   ]
  },
  {
   "cell_type": "markdown",
   "metadata": {},
   "source": [
    "**Testing for a model with reduced covariates**"
   ]
  },
  {
   "cell_type": "code",
   "execution_count": 9,
   "metadata": {},
   "outputs": [
    {
     "name": "stdout",
     "output_type": "stream",
     "text": [
      "With significance level 5.0%, we REJECT H0, i.e., the full model is correct.\n"
     ]
    },
    {
     "data": {
      "text/plain": [
       "False"
      ]
     },
     "execution_count": 9,
     "metadata": {},
     "output_type": "execute_result"
    }
   ],
   "source": [
    "reduced_X = X[:, :5] # Reduced model with only 5 covariates\n",
    "alpha = 0.05\n",
    "ols_model.f_test_reduced_model(reduced_X, y, alpha)"
   ]
  },
  {
   "cell_type": "markdown",
   "metadata": {},
   "source": [
    "**Testing for arbitrary number of constraints**"
   ]
  },
  {
   "cell_type": "code",
   "execution_count": 10,
   "metadata": {},
   "outputs": [
    {
     "name": "stdout",
     "output_type": "stream",
     "text": [
      "With significance level 5.0%, we REJECT H0, i.e., the constraints do NOT hold for this model.\n"
     ]
    },
    {
     "data": {
      "text/plain": [
       "False"
      ]
     },
     "execution_count": 10,
     "metadata": {},
     "output_type": "execute_result"
    }
   ],
   "source": [
    "R = np.array([\n",
    "    [0, 0, 0, 1, 0, -1, 0, 0, 0],\n",
    "    [0, 0, 0, 0, 1, 0, 0, 0, 0]\n",
    "])\n",
    "r = np.array([0, 0])\n",
    "# We are testing if beta_3 = beta_5 and if beta_4 = 0.\n",
    "\n",
    "alpha = 0.05\n",
    "\n",
    "ols_model.f_test_constraints(R, r, alpha)"
   ]
  },
  {
   "cell_type": "markdown",
   "metadata": {},
   "source": [
    "### Confidence Intervals with the OLS model"
   ]
  },
  {
   "cell_type": "markdown",
   "metadata": {},
   "source": [
    "**Confidence interval for a single coefficient**"
   ]
  },
  {
   "cell_type": "code",
   "execution_count": 11,
   "metadata": {},
   "outputs": [
    {
     "name": "stdout",
     "output_type": "stream",
     "text": [
      "The interval [-0.2940677748709666, -0.23698598414228] has EXACT coverage probability 95.0% for coefficient B_3.\n"
     ]
    }
   ],
   "source": [
    "j = 3 # Index of coefficient\n",
    "interval1 = ols_model.confidence_interval_single(j, alpha=0.05)"
   ]
  },
  {
   "cell_type": "markdown",
   "metadata": {},
   "source": [
    "**Bonferonni confidence intervals for multiple coefficients**"
   ]
  },
  {
   "cell_type": "code",
   "execution_count": 12,
   "metadata": {},
   "outputs": [
    {
     "name": "stdout",
     "output_type": "stream",
     "text": [
      "The region defined by\n",
      "[(2.0547721085601807, 2.0823442296180956),\n",
      " (0.8078159859216998, 0.851422622639205),\n",
      " (0.10339238272347281, 0.13411091970081232),\n",
      " (-0.3053463722050296, -0.225707386808217)]\n",
      "has coverage probability GREATER THAN 97.5% for coefficients [0 1 2 3].\n"
     ]
    }
   ],
   "source": [
    "test_coefficients = np.array([0, 1, 2, 3]) # Index of coefficients\n",
    "region1 = ols_model.confidence_interval_bonferonni(test_coefficients, alpha=0.025)"
   ]
  },
  {
   "cell_type": "markdown",
   "metadata": {},
   "source": [
    "**Ellipsoid confidence region and test for $\\beta$**"
   ]
  },
  {
   "cell_type": "code",
   "execution_count": 13,
   "metadata": {},
   "outputs": [
    {
     "name": "stdout",
     "output_type": "stream",
     "text": [
      "The 95.0% confidence region for Beta is an ellipsoid centered at\n",
      "[ 2.06855817  0.8296193   0.11875165 -0.26552688  0.30569623 -0.004503\n",
      " -0.03932627 -0.89988565 -0.870541  ]\n",
      "with radius 16.923045113096883.\n",
      "This region DOES NOT contain your particular Beta = \n",
      "[ 2.    1.    0.1  -0.25  0.3   0.    0.   -1.   -1.  ].\n"
     ]
    },
    {
     "data": {
      "text/plain": [
       "False"
      ]
     },
     "execution_count": 13,
     "metadata": {},
     "output_type": "execute_result"
    }
   ],
   "source": [
    "test_beta = np.array([2, 1, 0.1, -0.25, 0.3, 0, 0, -1, -1])\n",
    "ols_model.confidence_ellipsoid_test(test_beta, alpha=0.05)"
   ]
  },
  {
   "cell_type": "markdown",
   "metadata": {},
   "source": [
    "**Confidence interval for $m(x_{new})$ and $y_{new}$**"
   ]
  },
  {
   "cell_type": "code",
   "execution_count": 14,
   "metadata": {},
   "outputs": [
    {
     "name": "stdout",
     "output_type": "stream",
     "text": [
      "The interval [73.61740011134825, 81.61424497138975] has EXACT coverage probability 95.0% for m(x_new).\n"
     ]
    }
   ],
   "source": [
    "x_new = np.array([0, 5, 40, 5, 1, 300, 2, 37, -120])\n",
    "interval_m = ols_model.confidence_interval_predicted(x_new, alpha = 0.05) # For m(x_new)"
   ]
  },
  {
   "cell_type": "code",
   "execution_count": 15,
   "metadata": {},
   "outputs": [
    {
     "name": "stdout",
     "output_type": "stream",
     "text": [
      "The interval [73.37286902882846, 81.85877605390954] has EXACT coverage probability 95.0% for y_new.\n"
     ]
    }
   ],
   "source": [
    "interval_y = ols_model.confidence_interval_predicted(x_new, alpha = 0.05, for_y=True) # For y_new"
   ]
  },
  {
   "cell_type": "markdown",
   "metadata": {},
   "source": [
    "## WLS Example"
   ]
  },
  {
   "cell_type": "code",
   "execution_count": 16,
   "metadata": {},
   "outputs": [],
   "source": [
    "# Import the WLS class\n",
    "from regression.estimators import WLS"
   ]
  },
  {
   "cell_type": "markdown",
   "metadata": {},
   "source": [
    "### Basic Calculations"
   ]
  },
  {
   "cell_type": "markdown",
   "metadata": {},
   "source": [
    "**Fitting the WLS models using specified weights**"
   ]
  },
  {
   "cell_type": "code",
   "execution_count": 17,
   "metadata": {},
   "outputs": [
    {
     "data": {
      "text/plain": [
       "array([ 3.01112026,  0.94568743,  1.15787419,  0.52357691, -0.79419503,\n",
       "       -0.02934525, -0.2173963 ,  6.63703316,  4.97191875])"
      ]
     },
     "execution_count": 17,
     "metadata": {},
     "output_type": "execute_result"
    }
   ],
   "source": [
    "# Initialize the WLS model with default parameters\n",
    "wls_model = WLS()\n",
    "\n",
    "weights = np.random.normal(size=len(X)) # N weights\n",
    "# Regress y on x\n",
    "wls_model.fit(X, y, weights)\n",
    "wls_model.beta # The WLS estimator"
   ]
  },
  {
   "cell_type": "markdown",
   "metadata": {},
   "source": [
    "**Predicting using the fitted model**"
   ]
  },
  {
   "cell_type": "code",
   "execution_count": 18,
   "metadata": {},
   "outputs": [
    {
     "data": {
      "text/plain": [
       "array([7.24023211, 5.2356188 , 7.78578164, ..., 8.50641495, 8.38399287,\n",
       "       8.44490132])"
      ]
     },
     "execution_count": 18,
     "metadata": {},
     "output_type": "execute_result"
    }
   ],
   "source": [
    "wls_model.predict(X)\n",
    "# Note: Normally, one would use the fitted model to predict unseen data, not the same X used when fitting."
   ]
  },
  {
   "cell_type": "markdown",
   "metadata": {},
   "source": [
    "**Compute performance metrics**"
   ]
  },
  {
   "cell_type": "code",
   "execution_count": 19,
   "metadata": {},
   "outputs": [
    {
     "name": "stdout",
     "output_type": "stream",
     "text": [
      "R2: 6.587853075058999\n",
      "Adjusted R2: 6.590290701818513\n",
      "MSE: 10.772439615745995\n"
     ]
    }
   ],
   "source": [
    "R2 = wls_model.score(y) # Normal R^2\n",
    "R2_ajd = wls_model.score(y, adjusted=True) # Adjusted R^2\n",
    "MSE = wls_model.mse(y) # Uses the values of y_hat store in the model when fitting\n",
    "\n",
    "print(\n",
    "    f\"R2: {R2}\\n\"\n",
    "    f\"Adjusted R2: {R2_ajd}\\n\"\n",
    "    f\"MSE: {MSE}\"\n",
    ")"
   ]
  },
  {
   "cell_type": "markdown",
   "metadata": {},
   "source": [
    "### Feasible WLS"
   ]
  },
  {
   "cell_type": "markdown",
   "metadata": {},
   "source": [
    "**A pratical way to do WLS estimation using OLS**"
   ]
  },
  {
   "cell_type": "code",
   "execution_count": 20,
   "metadata": {},
   "outputs": [
    {
     "data": {
      "text/plain": [
       "array([ 2.06855817,  1.98192896, -0.26295792, -2.44315985,  1.92891399,\n",
       "       -0.36089154, -0.16107315,  2.97487941,  2.338146  ])"
      ]
     },
     "execution_count": 20,
     "metadata": {},
     "output_type": "execute_result"
    }
   ],
   "source": [
    "wls_model.feasible_wls(X, y)\n",
    "wls_model.beta"
   ]
  },
  {
   "cell_type": "code",
   "execution_count": 21,
   "metadata": {},
   "outputs": [
    {
     "data": {
      "text/plain": [
       "45263.541611265886"
      ]
     },
     "execution_count": 21,
     "metadata": {},
     "output_type": "execute_result"
    }
   ],
   "source": [
    "# Calculate AIC\n",
    "aic = ols_model.compute_aic(X, y)\n",
    "aic"
   ]
  },
  {
   "cell_type": "code",
   "execution_count": 22,
   "metadata": {},
   "outputs": [
    {
     "data": {
      "text/plain": [
       "45327.021501022646"
      ]
     },
     "execution_count": 22,
     "metadata": {},
     "output_type": "execute_result"
    }
   ],
   "source": [
    "# Calculate BIC\n",
    "bic = ols_model.compute_bic(X, y)\n",
    "bic"
   ]
  },
  {
   "cell_type": "markdown",
   "metadata": {},
   "source": [
    "## Ridge Example"
   ]
  },
  {
   "cell_type": "code",
   "execution_count": 23,
   "metadata": {},
   "outputs": [],
   "source": [
    "# Import the Ridge class\n",
    "from regression.estimators import Ridge"
   ]
  },
  {
   "cell_type": "code",
   "execution_count": 24,
   "metadata": {},
   "outputs": [
    {
     "data": {
      "text/plain": [
       "array([ 2.06854815,  0.82961664,  0.11875818, -0.26551388,  0.30567906,\n",
       "       -0.00450071, -0.03932662, -0.89982369, -0.87047846])"
      ]
     },
     "execution_count": 24,
     "metadata": {},
     "output_type": "execute_result"
    }
   ],
   "source": [
    "# Initialize the Ridge model with default parameters\n",
    "ridge_model = Ridge()\n",
    "\n",
    "# Regress y on x\n",
    "ridge_model.fit(X, y, lambdaa = 0.1) # Set a lambda value > 0.\n",
    "ridge_model.beta # The Ridge estimator"
   ]
  },
  {
   "cell_type": "markdown",
   "metadata": {},
   "source": [
    "Other basic calculations are done in the same way as with OLS and WLS."
   ]
  },
  {
   "cell_type": "markdown",
   "metadata": {},
   "source": [
    "## ANOVA Example"
   ]
  },
  {
   "cell_type": "code",
   "execution_count": 27,
   "metadata": {},
   "outputs": [],
   "source": [
    "# Import the ANOVA class\n",
    "from regression.anova import ANOVA"
   ]
  },
  {
   "cell_type": "markdown",
   "metadata": {},
   "source": [
    "**Generating some fake data**"
   ]
  },
  {
   "cell_type": "code",
   "execution_count": 40,
   "metadata": {},
   "outputs": [],
   "source": [
    "# Some fake data\n",
    "group_size = 50\n",
    "group1 = np.random.normal(loc=10, scale=2, size=group_size)\n",
    "group2 = np.random.normal(loc=12, scale=2, size=group_size)\n",
    "group3 = np.random.normal(loc=15, scale=2, size=group_size)\n",
    "\n",
    "values = np.concatenate([group1, group2, group3])\n",
    "groups = np.array(['1'] * group_size + ['2'] * group_size + ['3'] * group_size)\n",
    "\n",
    "# Shuffle the data\n",
    "shuffled_indices = np.random.permutation(len(values))\n",
    "values = values[shuffled_indices]\n",
    "groups = groups[shuffled_indices]"
   ]
  },
  {
   "cell_type": "markdown",
   "metadata": {},
   "source": [
    "**Mean computation**"
   ]
  },
  {
   "cell_type": "code",
   "execution_count": 41,
   "metadata": {},
   "outputs": [
    {
     "data": {
      "text/plain": [
       "array([ 9.96047747, 11.92077677, 14.82937052])"
      ]
     },
     "execution_count": 41,
     "metadata": {},
     "output_type": "execute_result"
    }
   ],
   "source": [
    "# Initialize the model with data\n",
    "anova_model = ANOVA(groups, values)\n",
    "\n",
    "# Compute the means\n",
    "anova_model.compute_means()"
   ]
  },
  {
   "cell_type": "markdown",
   "metadata": {},
   "source": [
    "**Sum of squares computation**"
   ]
  },
  {
   "cell_type": "code",
   "execution_count": 42,
   "metadata": {},
   "outputs": [
    {
     "name": "stdout",
     "output_type": "stream",
     "text": [
      "TSS: 1129.43089174838\n",
      "WSS: 529.2840512858883\n",
      "BSS: 600.1468404624917\n"
     ]
    }
   ],
   "source": [
    "anova_model.compute_ss()\n",
    "print(\n",
    "    f\"TSS: {anova_model.tss}\\n\"\n",
    "    f\"WSS: {anova_model.wss}\\n\"\n",
    "    f\"BSS: {anova_model.bss}\"\n",
    ")"
   ]
  },
  {
   "cell_type": "markdown",
   "metadata": {},
   "source": [
    "**Conducting an ANOVA F-test**"
   ]
  },
  {
   "cell_type": "code",
   "execution_count": 43,
   "metadata": {},
   "outputs": [
    {
     "name": "stdout",
     "output_type": "stream",
     "text": [
      "With significance level 5.0%, we REJECT H0, i.e., there exists a group with different mean.\n"
     ]
    },
    {
     "data": {
      "text/plain": [
       "True"
      ]
     },
     "execution_count": 43,
     "metadata": {},
     "output_type": "execute_result"
    }
   ],
   "source": [
    "anova_model.f_test(alpha = 0.05)"
   ]
  },
  {
   "cell_type": "markdown",
   "metadata": {},
   "source": [
    "**Outputting an ANOVA table**"
   ]
  },
  {
   "cell_type": "code",
   "execution_count": 44,
   "metadata": {},
   "outputs": [
    {
     "name": "stdout",
     "output_type": "stream",
     "text": [
      "+----------+-----+-------------------+--------------------+-------------------+------------------------+\n",
      "|  Effect  |  DF |     Effect SS     |     Effect MSE     |       F-Stat      |        P-Value         |\n",
      "+----------+-----+-------------------+--------------------+-------------------+------------------------+\n",
      "|  Factor  |  2  | 600.1468404624917 | 300.07342023124585 | 83.34049111592647 | 1.1102230246251565e-16 |\n",
      "| Residual | 147 |  1129.43089174838 | 7.683203345227074  |                   |                        |\n",
      "+----------+-----+-------------------+--------------------+-------------------+------------------------+\n"
     ]
    }
   ],
   "source": [
    "info = anova_model.table()"
   ]
  }
 ],
 "metadata": {
  "kernelspec": {
   "display_name": "Python 3",
   "language": "python",
   "name": "python3"
  },
  "language_info": {
   "codemirror_mode": {
    "name": "ipython",
    "version": 3
   },
   "file_extension": ".py",
   "mimetype": "text/x-python",
   "name": "python",
   "nbconvert_exporter": "python",
   "pygments_lexer": "ipython3",
   "version": "3.11.5"
  }
 },
 "nbformat": 4,
 "nbformat_minor": 2
}
